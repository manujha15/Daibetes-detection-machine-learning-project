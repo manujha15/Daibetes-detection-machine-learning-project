{
  "cells": [
    {
      "cell_type": "markdown",
      "metadata": {
        "id": "view-in-github",
        "colab_type": "text"
      },
      "source": [
        "<a href=\"https://colab.research.google.com/github/manujha15/Daibetes-detection-machine-learning-project/blob/main/facerecognition.ipynb\" target=\"_parent\"><img src=\"https://colab.research.google.com/assets/colab-badge.svg\" alt=\"Open In Colab\"/></a>"
      ]
    },
    {
      "cell_type": "markdown",
      "metadata": {
        "id": "nXcuYSqj1bYp"
      },
      "source": []
    },
    {
      "cell_type": "code",
      "execution_count": null,
      "metadata": {
        "id": "E-P5Z4z00yOB"
      },
      "outputs": [],
      "source": [
        "from keras.utils import to_categorical\n",
        "from keras.preprocessing.image import load_img\n",
        "from keras.models import Sequential\n",
        "from keras.layers import Dense,Conv2D,Dropout,Flatten,MaxPooling2D\n",
        "import os\n",
        "import pandas as pd\n",
        "import numpy as np"
      ]
    },
    {
      "cell_type": "code",
      "execution_count": null,
      "metadata": {
        "id": "Z3bOynMj-Oo3"
      },
      "outputs": [],
      "source": [
        "TRAIN_DIR=\"/content/drive/MyDrive/ml-projects/train\"\n",
        "TEST_DIR=\"/content/drive/MyDrive/ml-projects/test\""
      ]
    },
    {
      "cell_type": "markdown",
      "metadata": {
        "id": "FteaR7z61Bne"
      },
      "source": [
        "# New Section"
      ]
    },
    {
      "cell_type": "code",
      "execution_count": null,
      "metadata": {
        "id": "r5NTuFrD2OjS"
      },
      "outputs": [],
      "source": [
        "def createdataframe(dir):\n",
        "  image_paths=[]\n",
        "  labels=[]\n",
        "  for label in os.listdir(dir):\n",
        "    for imagename in os.listdir(os.path.join(dir,label)):\n",
        "      image_paths.append(os.path.join(dir,label,imagename))\n",
        "      labels.append(label)\n",
        "    print(label,\"completed\")\n",
        "  return image_paths,labels"
      ]
    },
    {
      "cell_type": "code",
      "execution_count": null,
      "metadata": {
        "colab": {
          "base_uri": "https://localhost:8080/"
        },
        "id": "Co3qh2oF3hqW",
        "outputId": "7d9444e7-ce41-45e6-a199-efc6f3737a33"
      },
      "outputs": [
        {
          "output_type": "stream",
          "name": "stdout",
          "text": [
            "surprise completed\n",
            "fear completed\n",
            "disgust completed\n",
            "happy completed\n",
            "angry completed\n",
            "neutral completed\n",
            "sad completed\n"
          ]
        }
      ],
      "source": [
        "train=pd.DataFrame()\n",
        "train['image'],train['label']=createdataframe(TRAIN_DIR)"
      ]
    },
    {
      "cell_type": "code",
      "execution_count": null,
      "metadata": {
        "colab": {
          "base_uri": "https://localhost:8080/"
        },
        "id": "hmTdwi3u8LkG",
        "outputId": "0a1a6832-4bde-4aca-a88a-47140093449b"
      },
      "outputs": [
        {
          "output_type": "stream",
          "name": "stdout",
          "text": [
            "happy completed\n",
            "neutral completed\n",
            "angry completed\n",
            "disgust completed\n",
            "fear completed\n",
            "surprise completed\n",
            "sad completed\n"
          ]
        }
      ],
      "source": [
        "test=pd.DataFrame()\n",
        "test['image'],test['label']=createdataframe(TEST_DIR)"
      ]
    },
    {
      "cell_type": "code",
      "execution_count": null,
      "metadata": {
        "colab": {
          "base_uri": "https://localhost:8080/"
        },
        "id": "Y9nOTQdz36aK",
        "outputId": "bb7742a9-15a4-4f39-dd17-0743c0c08dd3"
      },
      "outputs": [
        {
          "output_type": "stream",
          "name": "stdout",
          "text": [
            "                                                   image     label\n",
            "0      /content/drive/MyDrive/ml-projects/train/surpr...  surprise\n",
            "1      /content/drive/MyDrive/ml-projects/train/surpr...  surprise\n",
            "2      /content/drive/MyDrive/ml-projects/train/surpr...  surprise\n",
            "3      /content/drive/MyDrive/ml-projects/train/surpr...  surprise\n",
            "4      /content/drive/MyDrive/ml-projects/train/surpr...  surprise\n",
            "...                                                  ...       ...\n",
            "12157  /content/drive/MyDrive/ml-projects/train/sad/1...       sad\n",
            "12158  /content/drive/MyDrive/ml-projects/train/sad/1...       sad\n",
            "12159  /content/drive/MyDrive/ml-projects/train/sad/1...       sad\n",
            "12160  /content/drive/MyDrive/ml-projects/train/sad/1...       sad\n",
            "12161  /content/drive/MyDrive/ml-projects/train/sad/1...       sad\n",
            "\n",
            "[12162 rows x 2 columns]\n"
          ]
        }
      ],
      "source": [
        "print(train)"
      ]
    },
    {
      "cell_type": "code",
      "execution_count": null,
      "metadata": {
        "colab": {
          "base_uri": "https://localhost:8080/"
        },
        "id": "b0Pwlaa5Ls2c",
        "outputId": "2f6d3ebc-8ced-46e8-8cdd-7b411c12e571"
      },
      "outputs": [
        {
          "output_type": "stream",
          "name": "stdout",
          "text": [
            "                                                  image  label\n",
            "0     /content/drive/MyDrive/ml-projects/test/happy/...  happy\n",
            "1     /content/drive/MyDrive/ml-projects/test/happy/...  happy\n",
            "2     /content/drive/MyDrive/ml-projects/test/happy/...  happy\n",
            "3     /content/drive/MyDrive/ml-projects/test/happy/...  happy\n",
            "4     /content/drive/MyDrive/ml-projects/test/happy/...  happy\n",
            "...                                                 ...    ...\n",
            "7061  /content/drive/MyDrive/ml-projects/test/sad/13...    sad\n",
            "7062  /content/drive/MyDrive/ml-projects/test/sad/14...    sad\n",
            "7063  /content/drive/MyDrive/ml-projects/test/sad/14...    sad\n",
            "7064  /content/drive/MyDrive/ml-projects/test/sad/14...    sad\n",
            "7065  /content/drive/MyDrive/ml-projects/test/sad/14...    sad\n",
            "\n",
            "[7066 rows x 2 columns]\n",
            "0       /content/drive/MyDrive/ml-projects/test/happy/...\n",
            "1       /content/drive/MyDrive/ml-projects/test/happy/...\n",
            "2       /content/drive/MyDrive/ml-projects/test/happy/...\n",
            "3       /content/drive/MyDrive/ml-projects/test/happy/...\n",
            "4       /content/drive/MyDrive/ml-projects/test/happy/...\n",
            "                              ...                        \n",
            "7061    /content/drive/MyDrive/ml-projects/test/sad/13...\n",
            "7062    /content/drive/MyDrive/ml-projects/test/sad/14...\n",
            "7063    /content/drive/MyDrive/ml-projects/test/sad/14...\n",
            "7064    /content/drive/MyDrive/ml-projects/test/sad/14...\n",
            "7065    /content/drive/MyDrive/ml-projects/test/sad/14...\n",
            "Name: image, Length: 7066, dtype: object\n"
          ]
        }
      ],
      "source": [
        "print(test)\n",
        "print(test['image'])"
      ]
    },
    {
      "cell_type": "code",
      "execution_count": null,
      "metadata": {
        "id": "xgpA72l19vWv"
      },
      "outputs": [],
      "source": [
        "from tqdm.notebook import tqdm"
      ]
    },
    {
      "cell_type": "code",
      "execution_count": null,
      "metadata": {
        "id": "wxdd7op27_k9"
      },
      "outputs": [],
      "source": [
        "def extract_features(images):\n",
        "  features=[]\n",
        "  for image in tqdm(images):\n",
        "    img=load_img(image,grayscale=True)\n",
        "    img=np.array(img)\n",
        "    features.append(img)\n",
        "  features=np.array(features)\n",
        "  features=features.reshape(len(features),48,48,1)\n",
        "  return features"
      ]
    },
    {
      "cell_type": "code",
      "execution_count": null,
      "metadata": {
        "colab": {
          "base_uri": "https://localhost:8080/",
          "height": 85,
          "referenced_widgets": [
            "ed2afe8e2e6b41bf9e8285ce6f9ca62d",
            "6375682f011d4124be0905b9797aa01c",
            "1f6f4368db78459184266c272c017219",
            "ba3a903892e24bd6b1bd56a286e89fc5",
            "ca827c1ffa8a4fb9bec2d557b9e9fba2",
            "5695b7e35ff54661ba6624712aed3e36",
            "6dac7f8905de4d3187f50a22fe6b19f7",
            "5f6e56f3cf7e43d6a6fd9be558e4677c",
            "2287aa085d0a44d5be479cddf0495ae9",
            "4a833b711cb9444f8e11526f15faf3f0",
            "7dd2d44fee364d28b66356919fe26965"
          ]
        },
        "id": "wS66y0ZoFHG_",
        "outputId": "40ba6c37-2c00-4413-a102-b3f224033a45"
      },
      "outputs": [
        {
          "output_type": "display_data",
          "data": {
            "text/plain": [
              "  0%|          | 0/12162 [00:00<?, ?it/s]"
            ],
            "application/vnd.jupyter.widget-view+json": {
              "version_major": 2,
              "version_minor": 0,
              "model_id": "ed2afe8e2e6b41bf9e8285ce6f9ca62d"
            }
          },
          "metadata": {}
        },
        {
          "output_type": "stream",
          "name": "stderr",
          "text": [
            "/usr/local/lib/python3.10/dist-packages/keras/src/utils/image_utils.py:409: UserWarning: grayscale is deprecated. Please use color_mode = \"grayscale\"\n",
            "  warnings.warn(\n"
          ]
        }
      ],
      "source": [
        "train_features=extract_features(train['image'])"
      ]
    },
    {
      "cell_type": "code",
      "execution_count": null,
      "metadata": {
        "id": "KUMZGXMd-Tx_"
      },
      "outputs": [],
      "source": [
        "test_features=extract_features(train['image'])"
      ]
    },
    {
      "cell_type": "code",
      "execution_count": null,
      "metadata": {
        "id": "4dfpwdVa-bzf"
      },
      "outputs": [],
      "source": [
        "x_train=train_features/255.0\n",
        "x_test=test_features/255.0"
      ]
    },
    {
      "cell_type": "code",
      "execution_count": null,
      "metadata": {
        "id": "Ip-gfejS-2OH"
      },
      "outputs": [],
      "source": [
        "from sklearn.preprocessing import LabelEncoder"
      ]
    },
    {
      "cell_type": "code",
      "execution_count": null,
      "metadata": {
        "id": "1tt5pQ6g_oWL"
      },
      "outputs": [],
      "source": [
        "le=LabelEncoder()\n",
        "le.fit(train['label'])\n",
        "le.fit(test['label'])"
      ]
    },
    {
      "cell_type": "code",
      "execution_count": null,
      "metadata": {
        "id": "34mOfGzv_rbj"
      },
      "outputs": [],
      "source": [
        "y_train=le.transform(train['label'])\n",
        "y_test=le.transform(test['label'])"
      ]
    },
    {
      "cell_type": "code",
      "execution_count": null,
      "metadata": {
        "id": "8GVU4JoGAAMD"
      },
      "outputs": [],
      "source": [
        "y_train=to_categorical(y_train,num_classes=7)\n",
        "y_test=to_categorical(y_test,num_classes=7)"
      ]
    },
    {
      "cell_type": "code",
      "execution_count": null,
      "metadata": {
        "id": "5lBbOd9LKJOp"
      },
      "outputs": [],
      "source": [
        "x_train.shape"
      ]
    },
    {
      "cell_type": "code",
      "execution_count": null,
      "metadata": {
        "id": "A-fTVg7kKB1w"
      },
      "outputs": [],
      "source": [
        "y_train.shape"
      ]
    },
    {
      "cell_type": "code",
      "execution_count": null,
      "metadata": {
        "id": "dDRLmYGgKDak"
      },
      "outputs": [],
      "source": [
        "y_test.shape"
      ]
    },
    {
      "cell_type": "code",
      "execution_count": null,
      "metadata": {
        "id": "7NlXRGG4A4oW"
      },
      "outputs": [],
      "source": [
        "model=Sequential()\n",
        "model.add(Conv2D(128,kernel_size=(3,3),activation='relu',input_shape=(48,48,1)))\n",
        "model.add(MaxPooling2D(pool_size=(2,2)))\n",
        "model.add(Dropout(0.4))\n",
        "\n",
        "model.add(Conv2D(256,kernel_size=(3,3),activation='relu',input_shape=(48,48,1)))\n",
        "model.add(MaxPooling2D(pool_size=(2,2)))\n",
        "model.add(Dropout(0.4))\n",
        "\n",
        "model.add(Conv2D(512,kernel_size=(3,3),activation='relu',input_shape=(48,48,1)))\n",
        "model.add(MaxPooling2D(pool_size=(2,2)))\n",
        "model.add(Dropout(0.4))\n",
        "\n",
        "model.add(Conv2D(512,kernel_size=(3,3),activation='relu',input_shape=(48,48,1)))\n",
        "model.add(MaxPooling2D(pool_size=(2,2)))\n",
        "model.add(Dropout(0.4))\n",
        "\n",
        "model.add(Flatten())\n",
        "model.add(Dense(512,activation='relu'))\n",
        "model.add(Dropout(0.4))\n",
        "model.add(Dense(256,activation='relu'))\n",
        "model.add(Dropout(0.3))\n",
        "\n",
        "model.add(Dense(7,activation=\"softmax\"))"
      ]
    },
    {
      "cell_type": "code",
      "execution_count": null,
      "metadata": {
        "id": "pEdMEi4EBK0C"
      },
      "outputs": [],
      "source": [
        "model.compile(optimizer='adam',loss='categorical_crossentropy',metrics='accuracy')"
      ]
    },
    {
      "cell_type": "code",
      "execution_count": null,
      "metadata": {
        "id": "oe18O3B8FIfn"
      },
      "outputs": [],
      "source": [
        "model.fit(x=x_train,y=y_train,batch_size=128,epochs=100,validation_data=(x_test,y_test))"
      ]
    },
    {
      "cell_type": "code",
      "execution_count": null,
      "metadata": {
        "id": "lkzpMAbFLmra"
      },
      "outputs": [],
      "source": [
        "from keras.models import model_from_json"
      ]
    },
    {
      "cell_type": "code",
      "execution_count": null,
      "metadata": {
        "id": "zId8s-3IFkVs"
      },
      "outputs": [],
      "source": [
        "model_json=model.to.json()\n",
        "with open(\"emotiondetector.json\",'w') as json_file:\n",
        "  json_file.write(model_json)\n",
        "model.save(\"emotiondetector.hs\")"
      ]
    },
    {
      "cell_type": "code",
      "execution_count": null,
      "metadata": {
        "id": "F2iPoGAdK_Bt"
      },
      "outputs": [],
      "source": [
        "json_file=open(\"facialemotionmodel.json\",\"r\")\n",
        "model_json=json_file.read()\n",
        "json_file.close()\n",
        "model-model_from_json(model_json)\n",
        "model.load_weights(\"facialemotionmodel.hs\")"
      ]
    },
    {
      "cell_type": "code",
      "execution_count": null,
      "metadata": {
        "id": "aS3xSL7QmEBa"
      },
      "outputs": [],
      "source": [
        "label=['angry','disgust','fear','happy','neutral','sad','suprise']"
      ]
    },
    {
      "cell_type": "code",
      "execution_count": null,
      "metadata": {
        "id": "O2VoSGiwNICW"
      },
      "outputs": [],
      "source": [
        "def ef(image):\n",
        "  img =load_img(image,grayscale=True)\n",
        "  feature=np.array(img)\n",
        "  feature=feature.reshape(1,48,48,1)\n",
        "  return feature/255.0"
      ]
    },
    {
      "cell_type": "code",
      "execution_count": null,
      "metadata": {
        "id": "CPsPOhAQNsra"
      },
      "outputs": [],
      "source": [
        "image='/content/drive/MyDrive/ml-projects/test/angry/10052.jpg'\n",
        "print(\"it is the image is of angry\")\n",
        "img=ef(image)\n",
        "pred=model.predict(img)\n",
        "pred_label=label[pred.argmax()]\n",
        "print(\"model pridiction is\",pred_label)"
      ]
    },
    {
      "cell_type": "code",
      "execution_count": null,
      "metadata": {
        "id": "cpozpSssOkhR"
      },
      "outputs": [],
      "source": [
        "import matplotlib.pyplot as plt\n",
        "%matplotlib inline"
      ]
    },
    {
      "cell_type": "code",
      "execution_count": null,
      "metadata": {
        "id": "oVW18XHvajec"
      },
      "outputs": [],
      "source": [
        "image='/content/drive/MyDrive/ml-projects/train/angry/10325.jpg'\n",
        "print(\"original image is of angry\")\n",
        "img=ef(image)\n",
        "pred=model.predict(img)\n",
        "pred_label=label[pred.argmax()]\n",
        "print(\"model pridiction is\",pred_label)\n",
        "plt.imshow(img.reshape(48,48),cmap='gray')"
      ]
    },
    {
      "cell_type": "code",
      "execution_count": null,
      "metadata": {
        "id": "4CqAylSXJmQj"
      },
      "outputs": [],
      "source": []
    }
  ],
  "metadata": {
    "colab": {
      "provenance": [],
      "mount_file_id": "1y1Rj6uYj_vbUqLpVnGbYHnLG1RoLi0PA",
      "authorship_tag": "ABX9TyMsOVlEdi6HWrPNT3thhDH1",
      "include_colab_link": true
    },
    "kernelspec": {
      "display_name": "Python 3",
      "name": "python3"
    },
    "language_info": {
      "name": "python"
    },
    "widgets": {
      "application/vnd.jupyter.widget-state+json": {
        "ed2afe8e2e6b41bf9e8285ce6f9ca62d": {
          "model_module": "@jupyter-widgets/controls",
          "model_name": "HBoxModel",
          "model_module_version": "1.5.0",
          "state": {
            "_dom_classes": [],
            "_model_module": "@jupyter-widgets/controls",
            "_model_module_version": "1.5.0",
            "_model_name": "HBoxModel",
            "_view_count": null,
            "_view_module": "@jupyter-widgets/controls",
            "_view_module_version": "1.5.0",
            "_view_name": "HBoxView",
            "box_style": "",
            "children": [
              "IPY_MODEL_6375682f011d4124be0905b9797aa01c",
              "IPY_MODEL_1f6f4368db78459184266c272c017219",
              "IPY_MODEL_ba3a903892e24bd6b1bd56a286e89fc5"
            ],
            "layout": "IPY_MODEL_ca827c1ffa8a4fb9bec2d557b9e9fba2"
          }
        },
        "6375682f011d4124be0905b9797aa01c": {
          "model_module": "@jupyter-widgets/controls",
          "model_name": "HTMLModel",
          "model_module_version": "1.5.0",
          "state": {
            "_dom_classes": [],
            "_model_module": "@jupyter-widgets/controls",
            "_model_module_version": "1.5.0",
            "_model_name": "HTMLModel",
            "_view_count": null,
            "_view_module": "@jupyter-widgets/controls",
            "_view_module_version": "1.5.0",
            "_view_name": "HTMLView",
            "description": "",
            "description_tooltip": null,
            "layout": "IPY_MODEL_5695b7e35ff54661ba6624712aed3e36",
            "placeholder": "​",
            "style": "IPY_MODEL_6dac7f8905de4d3187f50a22fe6b19f7",
            "value": "  0%"
          }
        },
        "1f6f4368db78459184266c272c017219": {
          "model_module": "@jupyter-widgets/controls",
          "model_name": "FloatProgressModel",
          "model_module_version": "1.5.0",
          "state": {
            "_dom_classes": [],
            "_model_module": "@jupyter-widgets/controls",
            "_model_module_version": "1.5.0",
            "_model_name": "FloatProgressModel",
            "_view_count": null,
            "_view_module": "@jupyter-widgets/controls",
            "_view_module_version": "1.5.0",
            "_view_name": "ProgressView",
            "bar_style": "",
            "description": "",
            "description_tooltip": null,
            "layout": "IPY_MODEL_5f6e56f3cf7e43d6a6fd9be558e4677c",
            "max": 12162,
            "min": 0,
            "orientation": "horizontal",
            "style": "IPY_MODEL_2287aa085d0a44d5be479cddf0495ae9",
            "value": 34
          }
        },
        "ba3a903892e24bd6b1bd56a286e89fc5": {
          "model_module": "@jupyter-widgets/controls",
          "model_name": "HTMLModel",
          "model_module_version": "1.5.0",
          "state": {
            "_dom_classes": [],
            "_model_module": "@jupyter-widgets/controls",
            "_model_module_version": "1.5.0",
            "_model_name": "HTMLModel",
            "_view_count": null,
            "_view_module": "@jupyter-widgets/controls",
            "_view_module_version": "1.5.0",
            "_view_name": "HTMLView",
            "description": "",
            "description_tooltip": null,
            "layout": "IPY_MODEL_4a833b711cb9444f8e11526f15faf3f0",
            "placeholder": "​",
            "style": "IPY_MODEL_7dd2d44fee364d28b66356919fe26965",
            "value": " 34/12162 [00:10&lt;2:37:00,  1.29it/s]"
          }
        },
        "ca827c1ffa8a4fb9bec2d557b9e9fba2": {
          "model_module": "@jupyter-widgets/base",
          "model_name": "LayoutModel",
          "model_module_version": "1.2.0",
          "state": {
            "_model_module": "@jupyter-widgets/base",
            "_model_module_version": "1.2.0",
            "_model_name": "LayoutModel",
            "_view_count": null,
            "_view_module": "@jupyter-widgets/base",
            "_view_module_version": "1.2.0",
            "_view_name": "LayoutView",
            "align_content": null,
            "align_items": null,
            "align_self": null,
            "border": null,
            "bottom": null,
            "display": null,
            "flex": null,
            "flex_flow": null,
            "grid_area": null,
            "grid_auto_columns": null,
            "grid_auto_flow": null,
            "grid_auto_rows": null,
            "grid_column": null,
            "grid_gap": null,
            "grid_row": null,
            "grid_template_areas": null,
            "grid_template_columns": null,
            "grid_template_rows": null,
            "height": null,
            "justify_content": null,
            "justify_items": null,
            "left": null,
            "margin": null,
            "max_height": null,
            "max_width": null,
            "min_height": null,
            "min_width": null,
            "object_fit": null,
            "object_position": null,
            "order": null,
            "overflow": null,
            "overflow_x": null,
            "overflow_y": null,
            "padding": null,
            "right": null,
            "top": null,
            "visibility": null,
            "width": null
          }
        },
        "5695b7e35ff54661ba6624712aed3e36": {
          "model_module": "@jupyter-widgets/base",
          "model_name": "LayoutModel",
          "model_module_version": "1.2.0",
          "state": {
            "_model_module": "@jupyter-widgets/base",
            "_model_module_version": "1.2.0",
            "_model_name": "LayoutModel",
            "_view_count": null,
            "_view_module": "@jupyter-widgets/base",
            "_view_module_version": "1.2.0",
            "_view_name": "LayoutView",
            "align_content": null,
            "align_items": null,
            "align_self": null,
            "border": null,
            "bottom": null,
            "display": null,
            "flex": null,
            "flex_flow": null,
            "grid_area": null,
            "grid_auto_columns": null,
            "grid_auto_flow": null,
            "grid_auto_rows": null,
            "grid_column": null,
            "grid_gap": null,
            "grid_row": null,
            "grid_template_areas": null,
            "grid_template_columns": null,
            "grid_template_rows": null,
            "height": null,
            "justify_content": null,
            "justify_items": null,
            "left": null,
            "margin": null,
            "max_height": null,
            "max_width": null,
            "min_height": null,
            "min_width": null,
            "object_fit": null,
            "object_position": null,
            "order": null,
            "overflow": null,
            "overflow_x": null,
            "overflow_y": null,
            "padding": null,
            "right": null,
            "top": null,
            "visibility": null,
            "width": null
          }
        },
        "6dac7f8905de4d3187f50a22fe6b19f7": {
          "model_module": "@jupyter-widgets/controls",
          "model_name": "DescriptionStyleModel",
          "model_module_version": "1.5.0",
          "state": {
            "_model_module": "@jupyter-widgets/controls",
            "_model_module_version": "1.5.0",
            "_model_name": "DescriptionStyleModel",
            "_view_count": null,
            "_view_module": "@jupyter-widgets/base",
            "_view_module_version": "1.2.0",
            "_view_name": "StyleView",
            "description_width": ""
          }
        },
        "5f6e56f3cf7e43d6a6fd9be558e4677c": {
          "model_module": "@jupyter-widgets/base",
          "model_name": "LayoutModel",
          "model_module_version": "1.2.0",
          "state": {
            "_model_module": "@jupyter-widgets/base",
            "_model_module_version": "1.2.0",
            "_model_name": "LayoutModel",
            "_view_count": null,
            "_view_module": "@jupyter-widgets/base",
            "_view_module_version": "1.2.0",
            "_view_name": "LayoutView",
            "align_content": null,
            "align_items": null,
            "align_self": null,
            "border": null,
            "bottom": null,
            "display": null,
            "flex": null,
            "flex_flow": null,
            "grid_area": null,
            "grid_auto_columns": null,
            "grid_auto_flow": null,
            "grid_auto_rows": null,
            "grid_column": null,
            "grid_gap": null,
            "grid_row": null,
            "grid_template_areas": null,
            "grid_template_columns": null,
            "grid_template_rows": null,
            "height": null,
            "justify_content": null,
            "justify_items": null,
            "left": null,
            "margin": null,
            "max_height": null,
            "max_width": null,
            "min_height": null,
            "min_width": null,
            "object_fit": null,
            "object_position": null,
            "order": null,
            "overflow": null,
            "overflow_x": null,
            "overflow_y": null,
            "padding": null,
            "right": null,
            "top": null,
            "visibility": null,
            "width": null
          }
        },
        "2287aa085d0a44d5be479cddf0495ae9": {
          "model_module": "@jupyter-widgets/controls",
          "model_name": "ProgressStyleModel",
          "model_module_version": "1.5.0",
          "state": {
            "_model_module": "@jupyter-widgets/controls",
            "_model_module_version": "1.5.0",
            "_model_name": "ProgressStyleModel",
            "_view_count": null,
            "_view_module": "@jupyter-widgets/base",
            "_view_module_version": "1.2.0",
            "_view_name": "StyleView",
            "bar_color": null,
            "description_width": ""
          }
        },
        "4a833b711cb9444f8e11526f15faf3f0": {
          "model_module": "@jupyter-widgets/base",
          "model_name": "LayoutModel",
          "model_module_version": "1.2.0",
          "state": {
            "_model_module": "@jupyter-widgets/base",
            "_model_module_version": "1.2.0",
            "_model_name": "LayoutModel",
            "_view_count": null,
            "_view_module": "@jupyter-widgets/base",
            "_view_module_version": "1.2.0",
            "_view_name": "LayoutView",
            "align_content": null,
            "align_items": null,
            "align_self": null,
            "border": null,
            "bottom": null,
            "display": null,
            "flex": null,
            "flex_flow": null,
            "grid_area": null,
            "grid_auto_columns": null,
            "grid_auto_flow": null,
            "grid_auto_rows": null,
            "grid_column": null,
            "grid_gap": null,
            "grid_row": null,
            "grid_template_areas": null,
            "grid_template_columns": null,
            "grid_template_rows": null,
            "height": null,
            "justify_content": null,
            "justify_items": null,
            "left": null,
            "margin": null,
            "max_height": null,
            "max_width": null,
            "min_height": null,
            "min_width": null,
            "object_fit": null,
            "object_position": null,
            "order": null,
            "overflow": null,
            "overflow_x": null,
            "overflow_y": null,
            "padding": null,
            "right": null,
            "top": null,
            "visibility": null,
            "width": null
          }
        },
        "7dd2d44fee364d28b66356919fe26965": {
          "model_module": "@jupyter-widgets/controls",
          "model_name": "DescriptionStyleModel",
          "model_module_version": "1.5.0",
          "state": {
            "_model_module": "@jupyter-widgets/controls",
            "_model_module_version": "1.5.0",
            "_model_name": "DescriptionStyleModel",
            "_view_count": null,
            "_view_module": "@jupyter-widgets/base",
            "_view_module_version": "1.2.0",
            "_view_name": "StyleView",
            "description_width": ""
          }
        }
      }
    }
  },
  "nbformat": 4,
  "nbformat_minor": 0
}